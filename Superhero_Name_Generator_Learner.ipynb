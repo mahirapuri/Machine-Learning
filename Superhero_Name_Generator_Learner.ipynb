{
  "nbformat": 4,
  "nbformat_minor": 0,
  "metadata": {
    "accelerator": "GPU",
    "colab": {
      "name": " Superhero Name Generator - Learner.ipynb",
      "provenance": [],
      "collapsed_sections": [],
      "include_colab_link": true
    },
    "kernelspec": {
      "display_name": "Python 3",
      "language": "python",
      "name": "python3"
    },
    "language_info": {
      "codemirror_mode": {
        "name": "ipython",
        "version": 3
      },
      "file_extension": ".py",
      "mimetype": "text/x-python",
      "name": "python",
      "nbconvert_exporter": "python",
      "pygments_lexer": "ipython3",
      "version": "3.8.3"
    }
  },
  "cells": [
    {
      "cell_type": "markdown",
      "metadata": {
        "id": "view-in-github",
        "colab_type": "text"
      },
      "source": [
        "<a href=\"https://colab.research.google.com/github/mahirapuri/Machine-Learning/blob/main/Superhero_Name_Generator_Learner.ipynb\" target=\"_parent\"><img src=\"https://colab.research.google.com/assets/colab-badge.svg\" alt=\"Open In Colab\"/></a>"
      ]
    },
    {
      "cell_type": "markdown",
      "metadata": {
        "id": "21XXWP7Fpt2L"
      },
      "source": [
        "# Superhero (and Supervillain) Name Generator\n",
        "\n",
        "---\n",
        "\n",
        "[Superhero Names Dataset](https://github.com/am1tyadav/superhero)"
      ]
    },
    {
      "cell_type": "code",
      "metadata": {
        "id": "PjqrfPzBatru"
      },
      "source": [
        ""
      ],
      "execution_count": null,
      "outputs": []
    },
    {
      "cell_type": "markdown",
      "metadata": {
        "id": "H6P0NU5Cpt2R"
      },
      "source": [
        "TASK 2\n",
        "\n",
        "1. Import the data\n",
        "2. Create a tokenizer\n",
        "3. Char to index and Index to char dictionaries"
      ]
    },
    {
      "cell_type": "code",
      "metadata": {
        "colab": {
          "base_uri": "https://localhost:8080/"
        },
        "id": "srULhalZpt2M",
        "outputId": "45b09750-344a-4da0-c0fd-c0945684455e"
      },
      "source": [
        "!git clone https://github.com/am1tyadav/superhero"
      ],
      "execution_count": null,
      "outputs": [
        {
          "output_type": "stream",
          "name": "stdout",
          "text": [
            "Cloning into 'superhero'...\n",
            "remote: Enumerating objects: 8, done.\u001b[K\n",
            "remote: Counting objects: 100% (8/8), done.\u001b[K\n",
            "remote: Compressing objects: 100% (7/7), done.\u001b[K\n",
            "remote: Total 8 (delta 0), reused 4 (delta 0), pack-reused 0\u001b[K\n",
            "Unpacking objects: 100% (8/8), done.\n"
          ]
        }
      ]
    },
    {
      "cell_type": "code",
      "metadata": {
        "id": "uq4CLmsLpt2P"
      },
      "source": [
        "with open('superhero/superheroes.txt', 'r') as f:\n",
        "  data = f.read()\n",
        "\n",
        "  data[:100]"
      ],
      "execution_count": null,
      "outputs": []
    },
    {
      "cell_type": "code",
      "metadata": {
        "id": "JqhtLuAHpt2R"
      },
      "source": [
        ""
      ],
      "execution_count": null,
      "outputs": []
    },
    {
      "cell_type": "code",
      "metadata": {
        "id": "95Lo1Yqzpt2T"
      },
      "source": [
        ""
      ],
      "execution_count": null,
      "outputs": []
    },
    {
      "cell_type": "code",
      "metadata": {
        "colab": {
          "base_uri": "https://localhost:8080/"
        },
        "id": "qYfC4sj2pt2V",
        "outputId": "0f8f7cfc-fc85-4868-b8e8-0e6514aff3cd"
      },
      "source": [
        "import tensorflow as tf\n",
        "print(tf.__version__)"
      ],
      "execution_count": null,
      "outputs": [
        {
          "output_type": "stream",
          "name": "stdout",
          "text": [
            "2.6.0\n"
          ]
        }
      ]
    },
    {
      "cell_type": "code",
      "metadata": {
        "id": "EO4-dPM6pt2X"
      },
      "source": [
        "tokenizer = tf.keras.preprocessing.text.Tokenizer(\n",
        "    filters='!\"#$%&()*+,-./:;<=>?@[\\\\]^_`{|}~',\n",
        "    split='\\n',\n",
        ")"
      ],
      "execution_count": null,
      "outputs": []
    },
    {
      "cell_type": "markdown",
      "metadata": {
        "id": "SMwtIw_Bpt2Z"
      },
      "source": [
        "## Task 3\n",
        "\n",
        "1. Converting between names and sequences"
      ]
    },
    {
      "cell_type": "code",
      "metadata": {
        "id": "MK8BBUMR8HQL"
      },
      "source": [
        "tokenizer.fit_on_texts(data) # convert seq of char to numbers "
      ],
      "execution_count": null,
      "outputs": []
    },
    {
      "cell_type": "code",
      "metadata": {
        "colab": {
          "base_uri": "https://localhost:8080/"
        },
        "id": "N7iQLIXzpt2a",
        "outputId": "4e399cb3-2c6a-4e1c-a389-cb4956fe4c2b"
      },
      "source": [
        "char_to_index = tokenizer.word_index\n",
        "index_to_char = dict((v,k) for k, v in char_to_index.items()) #does tokenizer assign random values?\n",
        "print(index_to_char)"
      ],
      "execution_count": null,
      "outputs": [
        {
          "output_type": "stream",
          "name": "stdout",
          "text": [
            "{1: '\\t', 2: 'a', 3: 'e', 4: 'r', 5: 'o', 6: 'n', 7: 'i', 8: ' ', 9: 't', 10: 's', 11: 'l', 12: 'm', 13: 'h', 14: 'd', 15: 'c', 16: 'u', 17: 'g', 18: 'k', 19: 'b', 20: 'p', 21: 'y', 22: 'w', 23: 'f', 24: 'v', 25: 'j', 26: 'z', 27: 'x', 28: 'q'}\n"
          ]
        }
      ]
    },
    {
      "cell_type": "code",
      "metadata": {
        "id": "n_-TTfqipt2c"
      },
      "source": [
        "#names to seq and seq to names "
      ],
      "execution_count": null,
      "outputs": []
    },
    {
      "cell_type": "code",
      "metadata": {
        "colab": {
          "base_uri": "https://localhost:8080/"
        },
        "id": "P6IsKH1Upt2e",
        "outputId": "9b86eb4c-c2b5-4bcb-955e-835873645c11"
      },
      "source": [
        "names = data.splitlines() #splitting data into newline chars\n",
        "names[:10]"
      ],
      "execution_count": null,
      "outputs": [
        {
          "output_type": "execute_result",
          "data": {
            "text/plain": [
              "['jumpa\\t',\n",
              " 'doctor fate\\t',\n",
              " 'starlight\\t',\n",
              " 'isildur\\t',\n",
              " 'lasher\\t',\n",
              " 'varvara\\t',\n",
              " 'the target\\t',\n",
              " 'axel\\t',\n",
              " 'battra\\t',\n",
              " 'changeling\\t']"
            ]
          },
          "metadata": {},
          "execution_count": 14
        }
      ]
    },
    {
      "cell_type": "code",
      "metadata": {
        "colab": {
          "base_uri": "https://localhost:8080/"
        },
        "id": "TuLUiMP3pt2g",
        "outputId": "2573e050-8e6d-42a4-fec0-bf6d0fd083aa"
      },
      "source": [
        "tokenizer.texts_to_sequences(names[0]) #converting the first example to seq of numbers, we using tokenzier, use text to seq fn and pass our string"
      ],
      "execution_count": null,
      "outputs": [
        {
          "output_type": "execute_result",
          "data": {
            "text/plain": [
              "[[25], [16], [12], [20], [2], [1]]"
            ]
          },
          "metadata": {},
          "execution_count": 15
        }
      ]
    },
    {
      "cell_type": "code",
      "metadata": {
        "id": "yFUYhimKpt2h"
      },
      "source": [
        "def name_to_seq(name):\n",
        " return [tokenizer.texts_to_sequences(c)[0][0] for c in name] #fn converting names to seq"
      ],
      "execution_count": null,
      "outputs": []
    },
    {
      "cell_type": "code",
      "metadata": {
        "colab": {
          "base_uri": "https://localhost:8080/"
        },
        "id": "ROhCqmhLpt2k",
        "outputId": "ee6b3126-8815-4c9f-97dc-6d30ad9302a1"
      },
      "source": [
        "name_to_seq(names[0])\n"
      ],
      "execution_count": null,
      "outputs": [
        {
          "output_type": "execute_result",
          "data": {
            "text/plain": [
              "[25, 16, 12, 20, 2, 1]"
            ]
          },
          "metadata": {},
          "execution_count": 17
        }
      ]
    },
    {
      "cell_type": "code",
      "metadata": {
        "id": "0TbaPqW9Cmjz"
      },
      "source": [
        "def seq_to_name(seq):\n",
        "  return ''.join([index_to_char[i] for i in seq if i !=0]) #tokenzier starts from 1 and not 0 bec zero not defined\n",
        "  #we wanna join the char representation of the numbers so we iterate over the sequence 25 etc and look at the char value associated with that index and then join those to create a name."
      ],
      "execution_count": null,
      "outputs": []
    },
    {
      "cell_type": "code",
      "metadata": {
        "colab": {
          "base_uri": "https://localhost:8080/",
          "height": 35
        },
        "id": "d0ClA5WWFHNR",
        "outputId": "7bddc9d4-4521-4d13-e18e-8267735f9bf1"
      },
      "source": [
        "seq_to_name(name_to_seq(names[0])) "
      ],
      "execution_count": null,
      "outputs": [
        {
          "output_type": "execute_result",
          "data": {
            "application/vnd.google.colaboratory.intrinsic+json": {
              "type": "string"
            },
            "text/plain": [
              "'jumpa\\t'"
            ]
          },
          "metadata": {},
          "execution_count": 21
        }
      ]
    },
    {
      "cell_type": "markdown",
      "metadata": {
        "id": "uCbAzsNjpt2m"
      },
      "source": [
        "## Task 4\n",
        "\n",
        "1. Creating sequences\n",
        "2. Padding all sequences"
      ]
    },
    {
      "cell_type": "code",
      "metadata": {
        "id": "zstNn-0dpt2m"
      },
      "source": [
        "sequences= []\n",
        "\n",
        "for name in names:\n",
        "   seq = name_to_seq(name)\n",
        "   if len(seq)>=2 :\n",
        "     sequences += [seq[:i] for i in range(2, len(seq)+1)]"
      ],
      "execution_count": null,
      "outputs": []
    },
    {
      "cell_type": "code",
      "metadata": {
        "id": "BjRTMysvpt2o",
        "colab": {
          "base_uri": "https://localhost:8080/"
        },
        "outputId": "e8313040-a644-4566-ef24-6c4f2859c915"
      },
      "source": [
        "sequences[:10] #chopping the names in min len 2 and max len whatever "
      ],
      "execution_count": null,
      "outputs": [
        {
          "output_type": "execute_result",
          "data": {
            "text/plain": [
              "[[25, 16],\n",
              " [25, 16, 12],\n",
              " [25, 16, 12, 20],\n",
              " [25, 16, 12, 20, 2],\n",
              " [25, 16, 12, 20, 2, 1],\n",
              " [14, 5],\n",
              " [14, 5, 15],\n",
              " [14, 5, 15, 9],\n",
              " [14, 5, 15, 9, 5],\n",
              " [14, 5, 15, 9, 5, 4]]"
            ]
          },
          "metadata": {},
          "execution_count": 26
        }
      ]
    },
    {
      "cell_type": "code",
      "metadata": {
        "id": "SR68pu2tpt2q",
        "colab": {
          "base_uri": "https://localhost:8080/"
        },
        "outputId": "34ed0b3c-1480-4f08-c85b-7fa73fb9a282"
      },
      "source": [
        "#need to know max len cuz we should have fixed len; padding w zeroes\n",
        "max_len = max([len(x) for x in sequences])\n",
        "print(max_len)"
      ],
      "execution_count": null,
      "outputs": [
        {
          "output_type": "stream",
          "name": "stdout",
          "text": [
            "33\n"
          ]
        }
      ]
    },
    {
      "cell_type": "code",
      "metadata": {
        "id": "h_1BtWO7pt2r",
        "colab": {
          "base_uri": "https://localhost:8080/"
        },
        "outputId": "09d10e76-f3a9-4efa-b5dd-fc378aee871d"
      },
      "source": [
        "padded_sequences = tf.keras.preprocessing.sequence.pad_sequences(\n",
        "    sequences, padding='pre', #pre padding because it makes it easier to create labels bec the last char is always gonn be label\n",
        "    maxlen=max_len\n",
        "   )\n",
        "print(padded_sequences[0]) "
      ],
      "execution_count": null,
      "outputs": [
        {
          "output_type": "stream",
          "name": "stdout",
          "text": [
            "[ 0  0  0  0  0  0  0  0  0  0  0  0  0  0  0  0  0  0  0  0  0  0  0  0\n",
            "  0  0  0  0  0  0  0 25 16]\n"
          ]
        }
      ]
    },
    {
      "cell_type": "code",
      "metadata": {
        "colab": {
          "base_uri": "https://localhost:8080/"
        },
        "id": "cBNOh_TRKFfl",
        "outputId": "62f51619-7d36-4be7-f2d1-c2b0c53f86e3"
      },
      "source": [
        "padded_sequences.shape"
      ],
      "execution_count": null,
      "outputs": [
        {
          "output_type": "execute_result",
          "data": {
            "text/plain": [
              "(88279, 33)"
            ]
          },
          "metadata": {},
          "execution_count": 30
        }
      ]
    },
    {
      "cell_type": "code",
      "metadata": {
        "id": "sPlrLRpSpt2t"
      },
      "source": [
        ""
      ],
      "execution_count": null,
      "outputs": []
    },
    {
      "cell_type": "markdown",
      "metadata": {
        "id": "NBmyFl8F5cs1"
      },
      "source": [
        "## Task 5: Creating Training and Validation Sets\n",
        "\n",
        "1. Creating training and validation sets"
      ]
    },
    {
      "cell_type": "code",
      "metadata": {
        "id": "BE4BIeSnpt2v",
        "colab": {
          "base_uri": "https://localhost:8080/"
        },
        "outputId": "6479e5ad-37cb-4f9c-fe71-00fed315109c"
      },
      "source": [
        "x, y = padded_sequences[:,:-1], padded_sequences[:,-1]\n",
        "print(x.shape,y.shape)\n",
        "#len of seq for our examples is 32.\n"
      ],
      "execution_count": null,
      "outputs": [
        {
          "output_type": "stream",
          "name": "stdout",
          "text": [
            "(88279, 32) (88279,)\n"
          ]
        }
      ]
    },
    {
      "cell_type": "code",
      "metadata": {
        "id": "3W289kC55cs1",
        "colab": {
          "base_uri": "https://localhost:8080/"
        },
        "outputId": "62b6d7e6-0831-48d9-c499-ef7ece6e97d8"
      },
      "source": [
        "#tts\n",
        "from sklearn.model_selection import train_test_split\n",
        "x_train, x_test, y_train, y_test = train_test_split(x,y)\n",
        "print(x_train.shape,y_train.shape)\n",
        "print(x_test.shape,y_test.shape)\n",
        "#we have 60k train examples and 20k test examples\n"
      ],
      "execution_count": null,
      "outputs": [
        {
          "output_type": "stream",
          "name": "stdout",
          "text": [
            "(66209, 32) (66209,)\n",
            "(22070, 32) (22070,)\n"
          ]
        }
      ]
    },
    {
      "cell_type": "code",
      "metadata": {
        "id": "cgqRZtqnpt2x",
        "colab": {
          "base_uri": "https://localhost:8080/"
        },
        "outputId": "dedb836c-9236-4a43-88dd-840b89c3b58c"
      },
      "source": [
        "num_chars = len(char_to_index.keys()) +1 #+1 bec we have also included zero\n",
        "print(num_chars) #a to z, space, tab,0"
      ],
      "execution_count": null,
      "outputs": [
        {
          "output_type": "stream",
          "name": "stdout",
          "text": [
            "29\n"
          ]
        }
      ]
    },
    {
      "cell_type": "markdown",
      "metadata": {
        "id": "w2XOxsUz5cs1"
      },
      "source": [
        "## Task 6: Creating the Model"
      ]
    },
    {
      "cell_type": "code",
      "metadata": {
        "id": "5PPl2iHA5cs1",
        "colab": {
          "base_uri": "https://localhost:8080/"
        },
        "outputId": "1d3e48dd-2aac-475f-fc6f-d5e0eb70a8ec"
      },
      "source": [
        "from tensorflow.keras.models import Sequential\n",
        "from tensorflow.keras.layers import Embedding, Conv1D, MaxPool1D, LSTM\n",
        "from tensorflow.keras.layers import Bidirectional, Dense \n",
        "\n",
        "model = Sequential([\n",
        "                    Embedding(num_chars, 8, input_length=max_len-1),\n",
        "                    Conv1D(64,5,strides=1,activation='tanh',padding='causal'),\n",
        "                    MaxPool1D(2),\n",
        "                    LSTM(32),\n",
        "                    Dense(num_chars,activation='softmax')\n",
        "])\n",
        "\n",
        "model.compile(\n",
        "    loss='sparse_categorical_crossentropy',\n",
        "    optimizer=\"adam\",\n",
        "    metrics=['accuracy']\n",
        ")\n",
        "model.summary()\n",
        "\n"
      ],
      "execution_count": null,
      "outputs": [
        {
          "output_type": "stream",
          "name": "stdout",
          "text": [
            "Model: \"sequential\"\n",
            "_________________________________________________________________\n",
            "Layer (type)                 Output Shape              Param #   \n",
            "=================================================================\n",
            "embedding (Embedding)        (None, 32, 8)             232       \n",
            "_________________________________________________________________\n",
            "conv1d (Conv1D)              (None, 32, 64)            2624      \n",
            "_________________________________________________________________\n",
            "max_pooling1d (MaxPooling1D) (None, 16, 64)            0         \n",
            "_________________________________________________________________\n",
            "lstm (LSTM)                  (None, 32)                12416     \n",
            "_________________________________________________________________\n",
            "dense (Dense)                (None, 29)                957       \n",
            "=================================================================\n",
            "Total params: 16,229\n",
            "Trainable params: 16,229\n",
            "Non-trainable params: 0\n",
            "_________________________________________________________________\n"
          ]
        }
      ]
    },
    {
      "cell_type": "markdown",
      "metadata": {
        "id": "oCn9ht675cs2"
      },
      "source": [
        "## Task 7: Training the Model"
      ]
    },
    {
      "cell_type": "code",
      "metadata": {
        "id": "blBXlSw5TYuq"
      },
      "source": [
        ""
      ],
      "execution_count": null,
      "outputs": []
    },
    {
      "cell_type": "code",
      "metadata": {
        "id": "j0Ssl4qupt22",
        "colab": {
          "base_uri": "https://localhost:8080/"
        },
        "outputId": "5508e9e8-d399-482b-84b8-c9b1710f0ee4"
      },
      "source": [
        "h = model.fit(\n",
        "    x_train,y_train,\n",
        "    validation_data=(x_test,y_test),\n",
        "    epochs=50, verbose=2,\n",
        "    callbacks=[\n",
        "               tf.keras.callbacks.EarlyStopping(monitor='val_accuracy',patience=3)\n",
        "    ]\n",
        ")"
      ],
      "execution_count": null,
      "outputs": [
        {
          "output_type": "stream",
          "name": "stdout",
          "text": [
            "Epoch 1/50\n",
            "2070/2070 - 48s - loss: 2.7427 - accuracy: 0.1894 - val_loss: 2.6102 - val_accuracy: 0.2202\n",
            "Epoch 2/50\n",
            "2070/2070 - 16s - loss: 2.5505 - accuracy: 0.2352 - val_loss: 2.5195 - val_accuracy: 0.2415\n",
            "Epoch 3/50\n",
            "2070/2070 - 16s - loss: 2.4777 - accuracy: 0.2512 - val_loss: 2.4679 - val_accuracy: 0.2508\n",
            "Epoch 4/50\n",
            "2070/2070 - 16s - loss: 2.4264 - accuracy: 0.2672 - val_loss: 2.4258 - val_accuracy: 0.2675\n",
            "Epoch 5/50\n",
            "2070/2070 - 16s - loss: 2.3869 - accuracy: 0.2757 - val_loss: 2.3969 - val_accuracy: 0.2734\n",
            "Epoch 6/50\n",
            "2070/2070 - 16s - loss: 2.3551 - accuracy: 0.2850 - val_loss: 2.3660 - val_accuracy: 0.2802\n",
            "Epoch 7/50\n",
            "2070/2070 - 16s - loss: 2.3275 - accuracy: 0.2920 - val_loss: 2.3470 - val_accuracy: 0.2871\n",
            "Epoch 8/50\n",
            "2070/2070 - 16s - loss: 2.3023 - accuracy: 0.3009 - val_loss: 2.3302 - val_accuracy: 0.2930\n",
            "Epoch 9/50\n",
            "2070/2070 - 16s - loss: 2.2807 - accuracy: 0.3096 - val_loss: 2.3158 - val_accuracy: 0.2995\n",
            "Epoch 10/50\n",
            "2070/2070 - 16s - loss: 2.2612 - accuracy: 0.3167 - val_loss: 2.3078 - val_accuracy: 0.3045\n",
            "Epoch 11/50\n",
            "2070/2070 - 16s - loss: 2.2425 - accuracy: 0.3239 - val_loss: 2.2939 - val_accuracy: 0.3063\n",
            "Epoch 12/50\n",
            "2070/2070 - 16s - loss: 2.2255 - accuracy: 0.3296 - val_loss: 2.2862 - val_accuracy: 0.3110\n",
            "Epoch 13/50\n",
            "2070/2070 - 16s - loss: 2.2100 - accuracy: 0.3347 - val_loss: 2.2753 - val_accuracy: 0.3149\n",
            "Epoch 14/50\n",
            "2070/2070 - 16s - loss: 2.1947 - accuracy: 0.3391 - val_loss: 2.2688 - val_accuracy: 0.3156\n",
            "Epoch 15/50\n",
            "2070/2070 - 16s - loss: 2.1814 - accuracy: 0.3425 - val_loss: 2.2560 - val_accuracy: 0.3196\n",
            "Epoch 16/50\n",
            "2070/2070 - 16s - loss: 2.1693 - accuracy: 0.3471 - val_loss: 2.2544 - val_accuracy: 0.3217\n",
            "Epoch 17/50\n",
            "2070/2070 - 16s - loss: 2.1559 - accuracy: 0.3502 - val_loss: 2.2540 - val_accuracy: 0.3266\n",
            "Epoch 18/50\n",
            "2070/2070 - 16s - loss: 2.1460 - accuracy: 0.3516 - val_loss: 2.2403 - val_accuracy: 0.3266\n",
            "Epoch 19/50\n",
            "2070/2070 - 16s - loss: 2.1349 - accuracy: 0.3572 - val_loss: 2.2392 - val_accuracy: 0.3282\n",
            "Epoch 20/50\n",
            "2070/2070 - 16s - loss: 2.1247 - accuracy: 0.3601 - val_loss: 2.2333 - val_accuracy: 0.3274\n",
            "Epoch 21/50\n",
            "2070/2070 - 16s - loss: 2.1158 - accuracy: 0.3614 - val_loss: 2.2340 - val_accuracy: 0.3296\n",
            "Epoch 22/50\n",
            "2070/2070 - 16s - loss: 2.1067 - accuracy: 0.3637 - val_loss: 2.2280 - val_accuracy: 0.3368\n",
            "Epoch 23/50\n",
            "2070/2070 - 16s - loss: 2.0982 - accuracy: 0.3671 - val_loss: 2.2299 - val_accuracy: 0.3360\n",
            "Epoch 24/50\n",
            "2070/2070 - 16s - loss: 2.0897 - accuracy: 0.3705 - val_loss: 2.2264 - val_accuracy: 0.3355\n",
            "Epoch 25/50\n",
            "2070/2070 - 16s - loss: 2.0824 - accuracy: 0.3719 - val_loss: 2.2243 - val_accuracy: 0.3379\n",
            "Epoch 26/50\n",
            "2070/2070 - 16s - loss: 2.0753 - accuracy: 0.3747 - val_loss: 2.2203 - val_accuracy: 0.3380\n",
            "Epoch 27/50\n",
            "2070/2070 - 16s - loss: 2.0682 - accuracy: 0.3761 - val_loss: 2.2198 - val_accuracy: 0.3406\n",
            "Epoch 28/50\n",
            "2070/2070 - 16s - loss: 2.0615 - accuracy: 0.3777 - val_loss: 2.2216 - val_accuracy: 0.3408\n",
            "Epoch 29/50\n",
            "2070/2070 - 16s - loss: 2.0554 - accuracy: 0.3796 - val_loss: 2.2217 - val_accuracy: 0.3428\n",
            "Epoch 30/50\n",
            "2070/2070 - 16s - loss: 2.0493 - accuracy: 0.3826 - val_loss: 2.2156 - val_accuracy: 0.3463\n",
            "Epoch 31/50\n",
            "2070/2070 - 16s - loss: 2.0432 - accuracy: 0.3842 - val_loss: 2.2148 - val_accuracy: 0.3453\n",
            "Epoch 32/50\n",
            "2070/2070 - 16s - loss: 2.0376 - accuracy: 0.3857 - val_loss: 2.2137 - val_accuracy: 0.3463\n",
            "Epoch 33/50\n",
            "2070/2070 - 16s - loss: 2.0314 - accuracy: 0.3872 - val_loss: 2.2151 - val_accuracy: 0.3494\n",
            "Epoch 34/50\n",
            "2070/2070 - 16s - loss: 2.0258 - accuracy: 0.3885 - val_loss: 2.2158 - val_accuracy: 0.3483\n",
            "Epoch 35/50\n",
            "2070/2070 - 16s - loss: 2.0210 - accuracy: 0.3895 - val_loss: 2.2174 - val_accuracy: 0.3471\n",
            "Epoch 36/50\n",
            "2070/2070 - 16s - loss: 2.0162 - accuracy: 0.3925 - val_loss: 2.2141 - val_accuracy: 0.3493\n"
          ]
        }
      ]
    },
    {
      "cell_type": "markdown",
      "metadata": {
        "id": "jNtelOEz5cs2"
      },
      "source": [
        "## Task 8: Generate Names!"
      ]
    },
    {
      "cell_type": "code",
      "metadata": {
        "colab": {
          "base_uri": "https://localhost:8080/",
          "height": 267
        },
        "id": "HzvZbqWQTcPz",
        "outputId": "1fbd372a-0caa-4926-d941-b4fbe85adaea"
      },
      "source": [
        "from matplotlib import pyplot as plt \n",
        "\n",
        "epochs_ran = len(h.history['loss'])\n",
        "\n",
        "plt.plot(range(0,epochs_ran),h.history['val_accuracy'],label='Validation')\n",
        "plt.plot(range(0,epochs_ran),h.history['accuracy'],label='Training')\n",
        "plt.legend()\n",
        "plt.show()\n",
        "\n"
      ],
      "execution_count": null,
      "outputs": [
        {
          "output_type": "display_data",
          "data": {
            "image/png": "[encoded data removed]",
            "text/plain": [
              "<Figure size 432x288 with 1 Axes>"
            ]
          },
          "metadata": {
            "needs_background": "light"
          }
        }
      ]
    },
    {
      "cell_type": "code",
      "metadata": {
        "id": "9f50aTRcpt24"
      },
      "source": [
        "def generate_names(seed):\n",
        "  for i in range(0,40):\n",
        "    seq = name_to_seq(seed)\n",
        "    padded = tf.keras.preprocessing.sequence.pad_sequences([seq],padding='pre',\n",
        "                                                                maxlen=max_len-1,\n",
        "                                                           truncating='pre')\n",
        "    \n",
        "    pred=model.predict(padded)[0]\n",
        "    pred_char = index_to_char[tf.argmax(pred).numpy()]\n",
        "    seed += pred_char\n",
        "\n",
        "    if pred_char =='\\t':\n",
        "      break\n",
        "  print(seed)\n"
      ],
      "execution_count": null,
      "outputs": []
    },
    {
      "cell_type": "code",
      "metadata": {
        "id": "faQ0FInlpt26",
        "colab": {
          "base_uri": "https://localhost:8080/"
        },
        "outputId": "7a03c9f2-c935-44bd-a66b-8ecd3f982502"
      },
      "source": [
        "generate_names('a')"
      ],
      "execution_count": null,
      "outputs": [
        {
          "output_type": "stream",
          "name": "stdout",
          "text": [
            "artiman\t\n"
          ]
        }
      ]
    },
    {
      "cell_type": "code",
      "metadata": {
        "colab": {
          "base_uri": "https://localhost:8080/"
        },
        "id": "XWQT0QggXC70",
        "outputId": "39ef2ad5-fd72-47aa-902f-cb8ea40bb95f"
      },
      "source": [
        "generate_names('go')"
      ],
      "execution_count": null,
      "outputs": [
        {
          "output_type": "stream",
          "name": "stdout",
          "text": [
            "golden gorde\t\n"
          ]
        }
      ]
    },
    {
      "cell_type": "code",
      "metadata": {
        "colab": {
          "base_uri": "https://localhost:8080/"
        },
        "id": "UWgy9gpdXLVV",
        "outputId": "b9e2fee0-74e4-4f1e-99da-f9217b42fa9a"
      },
      "source": [
        "generate_names('woody')"
      ],
      "execution_count": null,
      "outputs": [
        {
          "output_type": "stream",
          "name": "stdout",
          "text": [
            "woody man\t\n"
          ]
        }
      ]
    }
  ]
}